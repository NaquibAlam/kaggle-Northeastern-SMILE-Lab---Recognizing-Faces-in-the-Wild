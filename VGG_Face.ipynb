{
  "nbformat": 4,
  "nbformat_minor": 0,
  "metadata": {
    "colab": {
      "name": "VGG_Face.ipynb",
      "version": "0.3.2",
      "provenance": []
    },
    "kernelspec": {
      "name": "python3",
      "display_name": "Python 3"
    },
    "accelerator": "GPU"
  },
  "cells": [
    {
      "cell_type": "code",
      "metadata": {
        "id": "jXFV-DywURgq",
        "colab_type": "code",
        "colab": {}
      },
      "source": [
        "from keras import backend as K\n",
        "from keras.layers import Convolution2D, ZeroPadding2D, Activation, Input, concatenate, Dropout\n",
        "from keras import models\n",
        "from keras.layers.normalization import BatchNormalization\n",
        "from keras.layers.pooling import MaxPooling2D, AveragePooling2D\n",
        "from keras.layers.core import Lambda, Flatten, Dense\n",
        "model = models.Sequential()\n",
        "model.add(ZeroPadding2D((1,1),input_shape=(224,224, 3)))\n",
        "model.add(Convolution2D(64, (3, 3), activation='relu'))\n",
        "model.add(ZeroPadding2D((1,1)))\n",
        "model.add(Convolution2D(64, (3, 3), activation='relu'))\n",
        "model.add(MaxPooling2D((2,2), strides=(2,2)))\n",
        " \n",
        "model.add(ZeroPadding2D((1,1)))\n",
        "model.add(Convolution2D(128, (3, 3), activation='relu'))\n",
        "model.add(ZeroPadding2D((1,1)))\n",
        "model.add(Convolution2D(128, (3, 3), activation='relu'))\n",
        "model.add(MaxPooling2D((2,2), strides=(2,2)))\n",
        " \n",
        "model.add(ZeroPadding2D((1,1)))\n",
        "model.add(Convolution2D(256, (3, 3), activation='relu'))\n",
        "model.add(ZeroPadding2D((1,1)))\n",
        "model.add(Convolution2D(256, (3, 3), activation='relu'))\n",
        "model.add(ZeroPadding2D((1,1)))\n",
        "model.add(Convolution2D(256, (3, 3), activation='relu'))\n",
        "model.add(MaxPooling2D((2,2), strides=(2,2)))\n",
        " \n",
        "model.add(ZeroPadding2D((1,1)))\n",
        "model.add(Convolution2D(512, (3, 3), activation='relu'))\n",
        "model.add(ZeroPadding2D((1,1)))\n",
        "model.add(Convolution2D(512, (3, 3), activation='relu'))\n",
        "model.add(ZeroPadding2D((1,1)))\n",
        "model.add(Convolution2D(512, (3, 3), activation='relu'))\n",
        "model.add(MaxPooling2D((2,2), strides=(2,2)))\n",
        " \n",
        "model.add(ZeroPadding2D((1,1)))\n",
        "model.add(Convolution2D(512, (3, 3), activation='relu'))\n",
        "model.add(ZeroPadding2D((1,1)))\n",
        "model.add(Convolution2D(512, (3, 3), activation='relu'))\n",
        "model.add(ZeroPadding2D((1,1)))\n",
        "model.add(Convolution2D(512, (3, 3), activation='relu'))\n",
        "model.add(MaxPooling2D((2,2), strides=(2,2)))\n",
        " \n",
        "model.add(Convolution2D(4096, (7, 7), activation='relu'))\n",
        "model.add(Dropout(0.5))\n",
        "model.add(Convolution2D(4096, (1, 1), activation='relu'))\n",
        "model.add(Dropout(0.5))\n",
        "model.add(Convolution2D(2622, (1, 1)))\n",
        "#model.add(Convolution2D(1000, (1, 1)))\n",
        "model.add(Flatten())\n",
        "model.add(Activation('softmax'))"
      ],
      "execution_count": 0,
      "outputs": []
    },
    {
      "cell_type": "code",
      "metadata": {
        "id": "H_7ktEB4Rv49",
        "colab_type": "code",
        "outputId": "15d17760-0e22-47f9-dd88-60af5642c2c1",
        "colab": {
          "base_uri": "https://localhost:8080/",
          "height": 155
        }
      },
      "source": [
        "!unzip v4_SplitData.zip"
      ],
      "execution_count": 0,
      "outputs": [
        {
          "output_type": "stream",
          "text": [
            "Archive:  v4_SplitData.zip\n",
            "replace v4_SplitData/.DS_Store? [y]es, [n]o, [A]ll, [N]one, [r]ename: [y]\n",
            "error:  invalid response [[y]]\n",
            "replace v4_SplitData/.DS_Store? [y]es, [n]o, [A]ll, [N]one, [r]ename: y\n",
            "  inflating: v4_SplitData/.DS_Store  \n",
            "replace __MACOSX/v4_SplitData/._.DS_Store? [y]es, [n]o, [A]ll, [N]one, [r]ename: y\n",
            "  inflating: __MACOSX/v4_SplitData/._.DS_Store  \n",
            "replace v4_SplitData/test/ramtej cl4/IMG-20190702-WA1682.jpg? [y]es, [n]o, [A]ll, [N]one, [r]ename: "
          ],
          "name": "stdout"
        }
      ]
    },
    {
      "cell_type": "code",
      "metadata": {
        "id": "A7-vdRB0YhTm",
        "colab_type": "code",
        "outputId": "540dc223-5ce4-4f7c-da8e-5adc16d0bf03",
        "colab": {
          "base_uri": "https://localhost:8080/",
          "height": 72
        }
      },
      "source": [
        "from keras.models import model_from_json\n",
        "model.load_weights('vgg_face_weights.h5')"
      ],
      "execution_count": 0,
      "outputs": [
        {
          "output_type": "stream",
          "text": [
            "W0708 09:20:01.541143 140114672977792 deprecation_wrapper.py:119] From /usr/local/lib/python3.6/dist-packages/keras/backend/tensorflow_backend.py:174: The name tf.get_default_session is deprecated. Please use tf.compat.v1.get_default_session instead.\n",
            "\n"
          ],
          "name": "stderr"
        }
      ]
    },
    {
      "cell_type": "code",
      "metadata": {
        "id": "_lLrhFZLZQYT",
        "colab_type": "code",
        "colab": {}
      },
      "source": [
        "from keras.models import Model\n",
        "vgg_face_descriptor = Model(inputs=model.layers[0].input\n",
        ", outputs=model.layers[-2].output)"
      ],
      "execution_count": 0,
      "outputs": []
    },
    {
      "cell_type": "code",
      "metadata": {
        "id": "Ue4FRXbJsVEt",
        "colab_type": "code",
        "outputId": "afdf64da-de76-4581-df90-895af647806d",
        "colab": {
          "base_uri": "https://localhost:8080/",
          "height": 35
        }
      },
      "source": [
        "model.layers[-4]"
      ],
      "execution_count": 0,
      "outputs": [
        {
          "output_type": "execute_result",
          "data": {
            "text/plain": [
              "<keras.layers.core.Dropout at 0x7f6ec4231518>"
            ]
          },
          "metadata": {
            "tags": []
          },
          "execution_count": 36
        }
      ]
    },
    {
      "cell_type": "code",
      "metadata": {
        "id": "9r4rJ7L0ZWHH",
        "colab_type": "code",
        "colab": {}
      },
      "source": [
        "import numpy as np\n",
        "from keras.preprocessing.image import load_img\n",
        "from keras.preprocessing.image import img_to_array\n",
        "from keras.applications.imagenet_utils import preprocess_input\n",
        "\n",
        "def preprocess_image(image_path):\n",
        "    img = load_img(image_path, target_size=(224, 224))\n",
        "    img = img_to_array(img)\n",
        "    img = np.expand_dims(img, axis=0)\n",
        "    img = preprocess_input(img)\n",
        "    return img"
      ],
      "execution_count": 0,
      "outputs": []
    },
    {
      "cell_type": "code",
      "metadata": {
        "id": "oT17u9ciZ9qL",
        "colab_type": "code",
        "colab": {}
      },
      "source": [
        "def findCosineDistance(source_representation, test_representation):\n",
        "    a = np.matmul(np.transpose(source_representation), test_representation)\n",
        "    b = np.sum(np.multiply(source_representation, source_representation))\n",
        "    c = np.sum(np.multiply(test_representation, test_representation))\n",
        "    return 1 - (a / (np.sqrt(b) * np.sqrt(c)))\n",
        "def findEuclideanDistance(source_representation, test_representation):\n",
        "    euclidean_distance = source_representation - test_representation\n",
        "    euclidean_distance = np.sum(np.multiply(euclidean_distance, euclidean_distance))\n",
        "    euclidean_distance = np.sqrt(euclidean_distance)\n",
        "    return euclidean_distance"
      ],
      "execution_count": 0,
      "outputs": []
    },
    {
      "cell_type": "code",
      "metadata": {
        "id": "wPkkmYpQaAIS",
        "colab_type": "code",
        "colab": {}
      },
      "source": [
        "epsilon = 0.40 #cosine similarity\n",
        "#epsilon = 120 #euclidean distance\n",
        " \n",
        "def verifyFace(img1, img2):\n",
        "  img1_representation = vgg_face_descriptor.predict(preprocess_image(img1))[0,:]\n",
        "  img2_representation = vgg_face_descriptor.predict(preprocess_image(img2))[0,:]\n",
        "  \n",
        "  cosine_similarity = findCosineDistance(img1_representation, img2_representation)\n",
        "  euclidean_distance = findEuclideanDistance(img1_representation, img2_representation)\n",
        " \n",
        "  if(cosine_similarity < epsilon):\n",
        "    print(\"verified... they are same person\")\n",
        "  else:\n",
        "    print(\"unverified! they are not same person!\")"
      ],
      "execution_count": 0,
      "outputs": []
    },
    {
      "cell_type": "code",
      "metadata": {
        "id": "EkaRk75W4qAp",
        "colab_type": "code",
        "colab": {}
      },
      "source": [
        ""
      ],
      "execution_count": 0,
      "outputs": []
    },
    {
      "cell_type": "code",
      "metadata": {
        "id": "JrFZE0uI4qJc",
        "colab_type": "code",
        "colab": {}
      },
      "source": [
        "img1 = 'jb-20-390x285.jpg'\n",
        "img2 = 'jb3.jpeg'"
      ],
      "execution_count": 0,
      "outputs": []
    },
    {
      "cell_type": "code",
      "metadata": {
        "id": "gRUSq1cXaDJS",
        "colab_type": "code",
        "colab": {}
      },
      "source": [
        "#img1_representation = vgg_face_descriptor.predict(preprocess_image('17ANGELINA-JOLIE1-articleLarge.jpg'))[0,:]\n",
        "#img2_representation = vgg_face_descriptor.predict(preprocess_image('Angelina-Jolie-Nato-t.jpg'))[0,:]"
      ],
      "execution_count": 0,
      "outputs": []
    },
    {
      "cell_type": "code",
      "metadata": {
        "id": "DFrkaFOZbDH2",
        "colab_type": "code",
        "outputId": "78af89f6-2351-4c47-fb67-3f94e5b06d9d",
        "colab": {
          "base_uri": "https://localhost:8080/",
          "height": 35
        }
      },
      "source": [
        "verifyFace(img1, img2)"
      ],
      "execution_count": 0,
      "outputs": [
        {
          "output_type": "stream",
          "text": [
            "verified... they are same person\n"
          ],
          "name": "stdout"
        }
      ]
    },
    {
      "cell_type": "code",
      "metadata": {
        "id": "sc0LjD9MGBup",
        "colab_type": "code",
        "colab": {}
      },
      "source": [
        ""
      ],
      "execution_count": 0,
      "outputs": []
    },
    {
      "cell_type": "code",
      "metadata": {
        "id": "THAu15sHGBxa",
        "colab_type": "code",
        "colab": {}
      },
      "source": [
        ""
      ],
      "execution_count": 0,
      "outputs": []
    },
    {
      "cell_type": "code",
      "metadata": {
        "id": "r9fgyW7aGB0E",
        "colab_type": "code",
        "colab": {}
      },
      "source": [
        "from keras.models import model_from_json\n",
        "model.load_weights('vgg_face_weights.h5')"
      ],
      "execution_count": 0,
      "outputs": []
    },
    {
      "cell_type": "code",
      "metadata": {
        "id": "9E9ZYMWjGD_c",
        "colab_type": "code",
        "colab": {}
      },
      "source": [
        "from keras.models import Model\n",
        "vgg_face_descriptor = Model(inputs=model.layers[0].input\n",
        ", outputs=model.layers[-2].output)"
      ],
      "execution_count": 0,
      "outputs": []
    },
    {
      "cell_type": "code",
      "metadata": {
        "id": "bMesenjOGKya",
        "colab_type": "code",
        "outputId": "40599bea-8316-42bd-e592-0308d93f79b2",
        "colab": {
          "base_uri": "https://localhost:8080/",
          "height": 35
        }
      },
      "source": [
        "model.layers[-4]"
      ],
      "execution_count": 0,
      "outputs": [
        {
          "output_type": "execute_result",
          "data": {
            "text/plain": [
              "<keras.layers.core.Dropout at 0x7f9430e73748>"
            ]
          },
          "metadata": {
            "tags": []
          },
          "execution_count": 34
        }
      ]
    },
    {
      "cell_type": "markdown",
      "metadata": {
        "id": "r_xo5XNfAGKr",
        "colab_type": "text"
      },
      "source": [
        "**For vgg face fine_tuning**\n",
        "\n"
      ]
    },
    {
      "cell_type": "code",
      "metadata": {
        "id": "su3G2zJOACsM",
        "colab_type": "code",
        "colab": {}
      },
      "source": [
        "height = 224\n",
        "width = 224"
      ],
      "execution_count": 0,
      "outputs": []
    },
    {
      "cell_type": "code",
      "metadata": {
        "id": "gFqtjqiGA0tD",
        "colab_type": "code",
        "colab": {}
      },
      "source": [
        "vgg_face = vgg_face_descriptor"
      ],
      "execution_count": 0,
      "outputs": []
    },
    {
      "cell_type": "code",
      "metadata": {
        "id": "7lbxWq8uevAD",
        "colab_type": "code",
        "outputId": "95c8bf9e-6c5a-4b0e-eab9-afaba3d3c719",
        "colab": {
          "base_uri": "https://localhost:8080/",
          "height": 674
        }
      },
      "source": [
        "# Freeze the layers except the last 8 layers\n",
        "for layer in vgg_face.layers[:-16]:\n",
        "    layer.trainable = False\n",
        " \n",
        "# Check the trainable status of the individual layers\n",
        "for layer in vgg_face.layers:\n",
        "    print(layer, layer.trainable)"
      ],
      "execution_count": 0,
      "outputs": [
        {
          "output_type": "stream",
          "text": [
            "<keras.engine.input_layer.InputLayer object at 0x7f938ee31860> False\n",
            "<keras.layers.convolutional.ZeroPadding2D object at 0x7f938ee317b8> False\n",
            "<keras.layers.convolutional.Conv2D object at 0x7f938ee317f0> False\n",
            "<keras.layers.convolutional.ZeroPadding2D object at 0x7f938ee31b00> False\n",
            "<keras.layers.convolutional.Conv2D object at 0x7f938ee31f60> False\n",
            "<keras.layers.pooling.MaxPooling2D object at 0x7f938edc1828> False\n",
            "<keras.layers.convolutional.ZeroPadding2D object at 0x7f938ee31940> False\n",
            "<keras.layers.convolutional.Conv2D object at 0x7f938edc1eb8> False\n",
            "<keras.layers.convolutional.ZeroPadding2D object at 0x7f938ee1da90> False\n",
            "<keras.layers.convolutional.Conv2D object at 0x7f938edf0400> False\n",
            "<keras.layers.pooling.MaxPooling2D object at 0x7f938ed83cc0> False\n",
            "<keras.layers.convolutional.ZeroPadding2D object at 0x7f938edf02e8> False\n",
            "<keras.layers.convolutional.Conv2D object at 0x7f938ed830f0> False\n",
            "<keras.layers.convolutional.ZeroPadding2D object at 0x7f938ed83b70> False\n",
            "<keras.layers.convolutional.Conv2D object at 0x7f938edb0898> False\n",
            "<keras.layers.convolutional.ZeroPadding2D object at 0x7f938edb05f8> False\n",
            "<keras.layers.convolutional.Conv2D object at 0x7f938ed443c8> False\n",
            "<keras.layers.pooling.MaxPooling2D object at 0x7f938ed6fa58> False\n",
            "<keras.layers.convolutional.ZeroPadding2D object at 0x7f938ed62198> False\n",
            "<keras.layers.convolutional.Conv2D object at 0x7f938eddb550> False\n",
            "<keras.layers.convolutional.ZeroPadding2D object at 0x7f938ed6f5f8> False\n",
            "<keras.layers.convolutional.Conv2D object at 0x7f938ed1f5f8> False\n",
            "<keras.layers.convolutional.ZeroPadding2D object at 0x7f938ed1f438> True\n",
            "<keras.layers.convolutional.Conv2D object at 0x7f938ed37ef0> True\n",
            "<keras.layers.pooling.MaxPooling2D object at 0x7f938ecdf7f0> True\n",
            "<keras.layers.convolutional.ZeroPadding2D object at 0x7f938ed37518> True\n",
            "<keras.layers.convolutional.Conv2D object at 0x7f938ecfaeb8> True\n",
            "<keras.layers.convolutional.ZeroPadding2D object at 0x7f938ecd04a8> True\n",
            "<keras.layers.convolutional.Conv2D object at 0x7f938ec903c8> True\n",
            "<keras.layers.convolutional.ZeroPadding2D object at 0x7f938ec902e8> True\n",
            "<keras.layers.convolutional.Conv2D object at 0x7f938eca4c88> True\n",
            "<keras.layers.pooling.MaxPooling2D object at 0x7f938ec4f588> True\n",
            "<keras.layers.convolutional.Conv2D object at 0x7f938eca4320> True\n",
            "<keras.layers.core.Dropout object at 0x7f938ec4f160> True\n",
            "<keras.layers.convolutional.Conv2D object at 0x7f938ec68d30> True\n",
            "<keras.layers.core.Dropout object at 0x7f938ec68908> True\n",
            "<keras.layers.convolutional.Conv2D object at 0x7f938ebff9b0> True\n",
            "<keras.layers.core.Flatten object at 0x7f938ebffc50> True\n"
          ],
          "name": "stdout"
        }
      ]
    },
    {
      "cell_type": "code",
      "metadata": {
        "id": "daExyfYZAdjf",
        "colab_type": "code",
        "outputId": "53e0506e-0565-4ef2-b4c8-e4aa37017b66",
        "colab": {
          "base_uri": "https://localhost:8080/",
          "height": 207
        }
      },
      "source": [
        "from keras import models\n",
        "from keras import layers\n",
        "from keras import optimizers\n",
        " \n",
        "# Create the model\n",
        "model = models.Sequential()\n",
        " \n",
        "# Add the vgg convolutional base model\n",
        "model.add(vgg_face)\n",
        " \n",
        "# Add new layers\n",
        "#model.add(layers.Dense(1024, activation='relu'))\n",
        "#model.add(layers.Dropout(0.5))\n",
        "model.add(layers.Dense(55, activation='softmax'))\n",
        " \n",
        "# Show a summary of the model. Check the number of trainable parameters\n",
        "model.summary()"
      ],
      "execution_count": 0,
      "outputs": [
        {
          "output_type": "stream",
          "text": [
            "_________________________________________________________________\n",
            "Layer (type)                 Output Shape              Param #   \n",
            "=================================================================\n",
            "model_5 (Model)              (None, 2622)              145002878 \n",
            "_________________________________________________________________\n",
            "dense_5 (Dense)              (None, 55)                144265    \n",
            "=================================================================\n",
            "Total params: 145,147,143\n",
            "Trainable params: 139,871,687\n",
            "Non-trainable params: 5,275,456\n",
            "_________________________________________________________________\n"
          ],
          "name": "stdout"
        }
      ]
    },
    {
      "cell_type": "code",
      "metadata": {
        "id": "yiGB11-OFaff",
        "colab_type": "code",
        "outputId": "3d1c6d32-d504-4ec2-d8f1-5f80bf8b7642",
        "colab": {
          "base_uri": "https://localhost:8080/",
          "height": 52
        }
      },
      "source": [
        "from keras.preprocessing.image import ImageDataGenerator\n",
        "train_dir = 'v4_SplitData/train'\n",
        "validation_dir = 'v4_SplitData/test'\n",
        "train_datagen = ImageDataGenerator(\n",
        "      rescale=1./255,\n",
        "      rotation_range=20,\n",
        "      width_shift_range=0.2,\n",
        "      height_shift_range=0.2,\n",
        "      horizontal_flip=True,\n",
        "      fill_mode='nearest')\n",
        " \n",
        "validation_datagen = ImageDataGenerator(rescale=1./255)\n",
        " \n",
        "# Change the batchsize according to your system RAM\n",
        "train_batchsize = 100\n",
        "val_batchsize = 10\n",
        " \n",
        "train_generator = train_datagen.flow_from_directory(\n",
        "        train_dir,\n",
        "        target_size=(height, width),\n",
        "        batch_size=train_batchsize,\n",
        "        class_mode='categorical')\n",
        " \n",
        "validation_generator = validation_datagen.flow_from_directory(\n",
        "        validation_dir,\n",
        "        target_size=(height, width),\n",
        "        batch_size=val_batchsize,\n",
        "        class_mode='categorical',\n",
        "        shuffle=False)"
      ],
      "execution_count": 0,
      "outputs": [
        {
          "output_type": "stream",
          "text": [
            "Found 884 images belonging to 55 classes.\n",
            "Found 247 images belonging to 55 classes.\n"
          ],
          "name": "stdout"
        }
      ]
    },
    {
      "cell_type": "code",
      "metadata": {
        "id": "aAu_8zpDFi2V",
        "colab_type": "code",
        "outputId": "f3f72d64-186d-40bd-e41a-a2970d17a54e",
        "colab": {
          "base_uri": "https://localhost:8080/",
          "height": 1000
        }
      },
      "source": [
        "# Compile the model\n",
        "model.compile(loss='categorical_crossentropy',\n",
        "              optimizer=optimizers.RMSprop(lr=1e-4),\n",
        "              metrics=['acc'])\n",
        "# Train the model\n",
        "history = model.fit_generator(\n",
        "      train_generator,\n",
        "      steps_per_epoch=train_generator.samples/train_generator.batch_size ,\n",
        "      epochs=70,\n",
        "      validation_data=validation_generator,\n",
        "      validation_steps=validation_generator.samples/validation_generator.batch_size,\n",
        "      verbose=1)\n",
        " \n",
        "# Save the model\n",
        "model.save('small_last4_vgg_face5.h5')"
      ],
      "execution_count": 0,
      "outputs": [
        {
          "output_type": "stream",
          "text": [
            "Epoch 1/70\n",
            "9/8 [==============================] - 32s 4s/step - loss: 4.0117 - acc: 0.0330 - val_loss: 3.9810 - val_acc: 0.0769\n",
            "Epoch 2/70\n",
            "9/8 [==============================] - 26s 3s/step - loss: 4.2435 - acc: 0.0464 - val_loss: 3.4418 - val_acc: 0.1093\n",
            "Epoch 3/70\n",
            "9/8 [==============================] - 27s 3s/step - loss: 3.6568 - acc: 0.0971 - val_loss: 3.3323 - val_acc: 0.1215\n",
            "Epoch 4/70\n",
            "9/8 [==============================] - 27s 3s/step - loss: 3.3954 - acc: 0.1322 - val_loss: 2.8186 - val_acc: 0.1700\n",
            "Epoch 5/70\n",
            "9/8 [==============================] - 27s 3s/step - loss: 3.0115 - acc: 0.1754 - val_loss: 3.0277 - val_acc: 0.1700\n",
            "Epoch 6/70\n",
            "9/8 [==============================] - 27s 3s/step - loss: 2.7615 - acc: 0.2298 - val_loss: 1.6416 - val_acc: 0.5223\n",
            "Epoch 7/70\n",
            "9/8 [==============================] - 27s 3s/step - loss: 2.3404 - acc: 0.3457 - val_loss: 1.3517 - val_acc: 0.5992\n",
            "Epoch 8/70\n",
            "9/8 [==============================] - 27s 3s/step - loss: 1.8029 - acc: 0.4671 - val_loss: 4.1008 - val_acc: 0.1579\n",
            "Epoch 9/70\n",
            "9/8 [==============================] - 27s 3s/step - loss: 1.8587 - acc: 0.5155 - val_loss: 1.1383 - val_acc: 0.6437\n",
            "Epoch 10/70\n",
            "9/8 [==============================] - 27s 3s/step - loss: 1.4557 - acc: 0.5617 - val_loss: 0.9028 - val_acc: 0.7368\n",
            "Epoch 11/70\n",
            "9/8 [==============================] - 27s 3s/step - loss: 1.2073 - acc: 0.6174 - val_loss: 1.1020 - val_acc: 0.7206\n",
            "Epoch 12/70\n",
            "9/8 [==============================] - 27s 3s/step - loss: 1.0467 - acc: 0.6892 - val_loss: 0.6218 - val_acc: 0.8097\n",
            "Epoch 13/70\n",
            "9/8 [==============================] - 27s 3s/step - loss: 1.1693 - acc: 0.6401 - val_loss: 1.0205 - val_acc: 0.7126\n",
            "Epoch 14/70\n",
            "9/8 [==============================] - 27s 3s/step - loss: 0.6894 - acc: 0.7933 - val_loss: 0.4763 - val_acc: 0.8785\n",
            "Epoch 15/70\n",
            "9/8 [==============================] - 27s 3s/step - loss: 1.3039 - acc: 0.6647 - val_loss: 0.5155 - val_acc: 0.8826\n",
            "Epoch 16/70\n",
            "9/8 [==============================] - 27s 3s/step - loss: 0.5209 - acc: 0.8577 - val_loss: 0.6873 - val_acc: 0.8381\n",
            "Epoch 17/70\n",
            "9/8 [==============================] - 27s 3s/step - loss: 0.6852 - acc: 0.7783 - val_loss: 0.3572 - val_acc: 0.9069\n",
            "Epoch 18/70\n",
            "9/8 [==============================] - 27s 3s/step - loss: 0.8065 - acc: 0.7576 - val_loss: 0.5256 - val_acc: 0.8907\n",
            "Epoch 19/70\n",
            "9/8 [==============================] - 28s 3s/step - loss: 0.3701 - acc: 0.8920 - val_loss: 0.3201 - val_acc: 0.9312\n",
            "Epoch 20/70\n",
            "9/8 [==============================] - 27s 3s/step - loss: 0.4829 - acc: 0.8585 - val_loss: 1.5040 - val_acc: 0.7004\n",
            "Epoch 21/70\n",
            "9/8 [==============================] - 27s 3s/step - loss: 0.6562 - acc: 0.8094 - val_loss: 0.3156 - val_acc: 0.9352\n",
            "Epoch 22/70\n",
            "9/8 [==============================] - 27s 3s/step - loss: 0.3038 - acc: 0.9070 - val_loss: 0.6008 - val_acc: 0.8583\n",
            "Epoch 23/70\n",
            "9/8 [==============================] - 27s 3s/step - loss: 0.3482 - acc: 0.8857 - val_loss: 0.3515 - val_acc: 0.9352\n",
            "Epoch 24/70\n",
            "9/8 [==============================] - 27s 3s/step - loss: 0.2863 - acc: 0.9000 - val_loss: 0.3379 - val_acc: 0.9433\n",
            "Epoch 25/70\n",
            "9/8 [==============================] - 27s 3s/step - loss: 0.3873 - acc: 0.8979 - val_loss: 0.4841 - val_acc: 0.9150\n",
            "Epoch 26/70\n",
            "9/8 [==============================] - 27s 3s/step - loss: 0.3997 - acc: 0.8738 - val_loss: 0.3007 - val_acc: 0.9514\n",
            "Epoch 27/70\n",
            "9/8 [==============================] - 27s 3s/step - loss: 0.1339 - acc: 0.9573 - val_loss: 0.3379 - val_acc: 0.9514\n",
            "Epoch 28/70\n",
            "9/8 [==============================] - 27s 3s/step - loss: 0.3553 - acc: 0.8901 - val_loss: 0.3845 - val_acc: 0.9433\n",
            "Epoch 29/70\n",
            "9/8 [==============================] - 27s 3s/step - loss: 0.1117 - acc: 0.9666 - val_loss: 0.4674 - val_acc: 0.9393\n",
            "Epoch 30/70\n",
            "9/8 [==============================] - 27s 3s/step - loss: 0.2566 - acc: 0.9193 - val_loss: 0.3704 - val_acc: 0.9393\n",
            "Epoch 31/70\n",
            "9/8 [==============================] - 27s 3s/step - loss: 0.1227 - acc: 0.9608 - val_loss: 0.9930 - val_acc: 0.8340\n",
            "Epoch 32/70\n",
            "9/8 [==============================] - 27s 3s/step - loss: 0.3042 - acc: 0.9108 - val_loss: 0.2582 - val_acc: 0.9636\n",
            "Epoch 33/70\n",
            "9/8 [==============================] - 27s 3s/step - loss: 0.2724 - acc: 0.9204 - val_loss: 0.2554 - val_acc: 0.9636\n",
            "Epoch 34/70\n",
            "9/8 [==============================] - 28s 3s/step - loss: 0.0695 - acc: 0.9805 - val_loss: 0.3234 - val_acc: 0.9474\n",
            "Epoch 35/70\n",
            "9/8 [==============================] - 27s 3s/step - loss: 0.1746 - acc: 0.9554 - val_loss: 0.8401 - val_acc: 0.8381\n",
            "Epoch 36/70\n",
            "9/8 [==============================] - 27s 3s/step - loss: 0.4030 - acc: 0.8918 - val_loss: 0.2887 - val_acc: 0.9676\n",
            "Epoch 37/70\n",
            "9/8 [==============================] - 27s 3s/step - loss: 0.0618 - acc: 0.9842 - val_loss: 0.3298 - val_acc: 0.9636\n",
            "Epoch 38/70\n",
            "9/8 [==============================] - 27s 3s/step - loss: 0.1355 - acc: 0.9601 - val_loss: 0.5940 - val_acc: 0.8988\n",
            "Epoch 39/70\n",
            "9/8 [==============================] - 27s 3s/step - loss: 0.1092 - acc: 0.9744 - val_loss: 0.3587 - val_acc: 0.9514\n",
            "Epoch 40/70\n",
            "9/8 [==============================] - 27s 3s/step - loss: 0.3334 - acc: 0.8964 - val_loss: 0.3723 - val_acc: 0.9352\n",
            "Epoch 41/70\n",
            "9/8 [==============================] - 27s 3s/step - loss: 0.0724 - acc: 0.9820 - val_loss: 0.2930 - val_acc: 0.9676\n",
            "Epoch 42/70\n",
            "9/8 [==============================] - 27s 3s/step - loss: 0.0365 - acc: 0.9874 - val_loss: 0.4315 - val_acc: 0.9433\n",
            "Epoch 43/70\n",
            "9/8 [==============================] - 27s 3s/step - loss: 0.1204 - acc: 0.9683 - val_loss: 0.4106 - val_acc: 0.9393\n",
            "Epoch 44/70\n",
            "9/8 [==============================] - 27s 3s/step - loss: 0.1838 - acc: 0.9582 - val_loss: 1.3689 - val_acc: 0.7976\n",
            "Epoch 45/70\n",
            "9/8 [==============================] - 28s 3s/step - loss: 0.4433 - acc: 0.9048 - val_loss: 0.3005 - val_acc: 0.9636\n",
            "Epoch 46/70\n",
            "9/8 [==============================] - 27s 3s/step - loss: 0.0457 - acc: 0.9874 - val_loss: 0.3814 - val_acc: 0.9514\n",
            "Epoch 47/70\n",
            "9/8 [==============================] - 28s 3s/step - loss: 0.0344 - acc: 0.9865 - val_loss: 0.3887 - val_acc: 0.9636\n",
            "Epoch 48/70\n",
            "9/8 [==============================] - 28s 3s/step - loss: 0.2446 - acc: 0.9399 - val_loss: 0.2861 - val_acc: 0.9555\n",
            "Epoch 49/70\n",
            "9/8 [==============================] - 27s 3s/step - loss: 0.0558 - acc: 0.9840 - val_loss: 0.3720 - val_acc: 0.9595\n",
            "Epoch 50/70\n",
            "9/8 [==============================] - 27s 3s/step - loss: 0.0296 - acc: 0.9896 - val_loss: 0.3484 - val_acc: 0.9514\n",
            "Epoch 51/70\n",
            "9/8 [==============================] - 28s 3s/step - loss: 0.0982 - acc: 0.9818 - val_loss: 0.3371 - val_acc: 0.9555\n",
            "Epoch 52/70\n",
            "9/8 [==============================] - 27s 3s/step - loss: 0.1061 - acc: 0.9764 - val_loss: 0.3533 - val_acc: 0.9595\n",
            "Epoch 53/70\n",
            "9/8 [==============================] - 27s 3s/step - loss: 0.0250 - acc: 0.9955 - val_loss: 0.4045 - val_acc: 0.9474\n",
            "Epoch 54/70\n",
            "9/8 [==============================] - 27s 3s/step - loss: 1.3688 - acc: 0.8064 - val_loss: 0.2988 - val_acc: 0.9514\n",
            "Epoch 55/70\n",
            "9/8 [==============================] - 28s 3s/step - loss: 0.0814 - acc: 0.9775 - val_loss: 0.2997 - val_acc: 0.9555\n",
            "Epoch 56/70\n",
            "9/8 [==============================] - 27s 3s/step - loss: 0.0283 - acc: 0.9918 - val_loss: 0.3258 - val_acc: 0.9514\n",
            "Epoch 57/70\n",
            "9/8 [==============================] - 27s 3s/step - loss: 0.0456 - acc: 0.9851 - val_loss: 0.3424 - val_acc: 0.9595\n",
            "Epoch 58/70\n",
            "9/8 [==============================] - 28s 3s/step - loss: 0.0324 - acc: 0.9931 - val_loss: 0.3517 - val_acc: 0.9555\n",
            "Epoch 59/70\n",
            "9/8 [==============================] - 28s 3s/step - loss: 0.0565 - acc: 0.9851 - val_loss: 0.3977 - val_acc: 0.9352\n",
            "Epoch 60/70\n",
            "9/8 [==============================] - 27s 3s/step - loss: 0.1699 - acc: 0.9532 - val_loss: 0.3310 - val_acc: 0.9555\n",
            "Epoch 61/70\n",
            "9/8 [==============================] - 27s 3s/step - loss: 0.0134 - acc: 0.9967 - val_loss: 0.3834 - val_acc: 0.9555\n",
            "Epoch 62/70\n",
            "9/8 [==============================] - 28s 3s/step - loss: 0.0442 - acc: 0.9916 - val_loss: 0.4851 - val_acc: 0.9393\n",
            "Epoch 63/70\n",
            "9/8 [==============================] - 27s 3s/step - loss: 0.0592 - acc: 0.9844 - val_loss: 0.3563 - val_acc: 0.9676\n",
            "Epoch 64/70\n",
            "9/8 [==============================] - 28s 3s/step - loss: 0.0149 - acc: 0.9933 - val_loss: 0.4337 - val_acc: 0.9474\n",
            "Epoch 65/70\n",
            "9/8 [==============================] - 28s 3s/step - loss: 0.3328 - acc: 0.9415 - val_loss: 0.6597 - val_acc: 0.9231\n",
            "Epoch 66/70\n",
            "9/8 [==============================] - 28s 3s/step - loss: 0.1744 - acc: 0.9607 - val_loss: 0.3409 - val_acc: 0.9676\n",
            "Epoch 67/70\n",
            "9/8 [==============================] - 27s 3s/step - loss: 0.0274 - acc: 0.9933 - val_loss: 0.3658 - val_acc: 0.9636\n",
            "Epoch 68/70\n",
            "9/8 [==============================] - 27s 3s/step - loss: 0.0249 - acc: 0.9933 - val_loss: 0.3926 - val_acc: 0.9595\n",
            "Epoch 69/70\n",
            "9/8 [==============================] - 28s 3s/step - loss: 0.3197 - acc: 0.9448 - val_loss: 2.2140 - val_acc: 0.6964\n",
            "Epoch 70/70\n",
            "9/8 [==============================] - 28s 3s/step - loss: 0.4802 - acc: 0.9208 - val_loss: 0.3190 - val_acc: 0.9636\n"
          ],
          "name": "stdout"
        }
      ]
    },
    {
      "cell_type": "code",
      "metadata": {
        "id": "3y8lYarlFpaG",
        "colab_type": "code",
        "colab": {}
      },
      "source": [
        ""
      ],
      "execution_count": 0,
      "outputs": []
    }
  ]
}